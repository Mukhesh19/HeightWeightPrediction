{
 "cells": [
  {
   "cell_type": "code",
   "execution_count": 1,
   "id": "5d4ca24b-7a45-4433-bad9-5fb0d16827ba",
   "metadata": {},
   "outputs": [
    {
     "name": "stdout",
     "output_type": "stream",
     "text": [
      "<class 'pandas.core.frame.DataFrame'>\n",
      "RangeIndex: 50 entries, 0 to 49\n",
      "Data columns (total 2 columns):\n",
      " #   Column          Non-Null Count  Dtype  \n",
      "---  ------          --------------  -----  \n",
      " 0   Height(Inches)  50 non-null     float64\n",
      " 1   Weight(Pounds)  50 non-null     float64\n",
      "dtypes: float64(2)\n",
      "memory usage: 932.0 bytes\n",
      "None\n",
      "       Height(Inches)  Weight(Pounds)\n",
      "count       50.000000       50.000000\n",
      "mean        68.052762      128.842936\n",
      "std          1.823818       12.888502\n",
      "min         63.481150       97.901910\n",
      "25%         66.939800      120.873175\n",
      "50%         67.868220      129.502500\n",
      "75%         69.176640      140.075500\n",
      "max         71.804840      153.026900\n",
      "   Height(Inches)\n",
      "0        65.78331\n",
      "1        71.51521\n",
      "2        69.39874\n",
      "3        68.21660\n",
      "4        67.78781\n",
      "0    112.9925\n",
      "1    136.4873\n",
      "2    153.0269\n",
      "3    142.3354\n",
      "4    144.2971\n",
      "Name: Weight(Pounds), dtype: float64\n"
     ]
    }
   ],
   "source": [
    "import pandas as pd\n",
    "import numpy as np\n",
    "\n",
    "# Load the dataset\n",
    "df = pd.read_csv(r\"C:\\Users\\USER\\Downloads\\archive (44)\\SOCR-HeightWeight.csv\")\n",
    "\n",
    "# Display basic information about the dataset\n",
    "print(df.info())\n",
    "\n",
    "# Summary statistics to understand data distribution\n",
    "print(df.describe())\n",
    "\n",
    "# Calculate Q1 (25th percentile) and Q3 (75th percentile) for outlier detection\n",
    "Q1 = df[['Height(Inches)', 'Weight(Pounds)']].quantile(0.25)\n",
    "Q3 = df[['Height(Inches)', 'Weight(Pounds)']].quantile(0.75)\n",
    "IQR = Q3 - Q1\n",
    "\n",
    "# Align the DataFrame and remove outliers using the IQR method\n",
    "df_aligned, IQR_aligned = df.align(IQR, axis=1, copy=False)\n",
    "df_filtered = df_aligned[~((df_aligned < (Q1 - 1.5 * IQR_aligned)) | (df_aligned > (Q3 + 1.5 * IQR_aligned))).any(axis=1)]\n",
    "\n",
    "# Prepare the independent variable (X) and dependent variable (y)\n",
    "X = df_filtered[['Height(Inches)']]  # Feature\n",
    "y = df_filtered['Weight(Pounds)']    # Target\n",
    "\n",
    "# Display the first few rows of X and y to verify the data\n",
    "print(X.head())\n",
    "print(y.head())"
   ]
  },
  {
   "cell_type": "code",
   "execution_count": 2,
   "id": "45d0fe5d-fbca-4b15-9f1e-c51abf99ae14",
   "metadata": {},
   "outputs": [
    {
     "name": "stdout",
     "output_type": "stream",
     "text": [
      "Model Coefficients (Slope): [3.64695687]\n",
      "Model Intercept: -119.82263908951018\n"
     ]
    }
   ],
   "source": [
    "from sklearn.model_selection import train_test_split\n",
    "from sklearn.linear_model import LinearRegression\n",
    "\n",
    "# Split the dataset into training (70%) and testing (30%) sets\n",
    "X_train, X_test, y_train, y_test = train_test_split(X, y, test_size=0.3, random_state=42)\n",
    "\n",
    "# Initialize the Linear Regression model\n",
    "model = LinearRegression()\n",
    "\n",
    "# Train the model using the training data\n",
    "model.fit(X_train, y_train)\n",
    "\n",
    "# Display the model's coefficients and intercept\n",
    "print(\"Model Coefficients (Slope):\", model.coef_)\n",
    "print(\"Model Intercept:\", model.intercept_)"
   ]
  },
  {
   "cell_type": "code",
   "execution_count": null,
   "id": "f24b426e-f718-4397-8fb1-b52bcdae5539",
   "metadata": {},
   "outputs": [],
   "source": []
  }
 ],
 "metadata": {
  "kernelspec": {
   "display_name": "Python 3 (ipykernel)",
   "language": "python",
   "name": "python3"
  },
  "language_info": {
   "codemirror_mode": {
    "name": "ipython",
    "version": 3
   },
   "file_extension": ".py",
   "mimetype": "text/x-python",
   "name": "python",
   "nbconvert_exporter": "python",
   "pygments_lexer": "ipython3",
   "version": "3.11.7"
  }
 },
 "nbformat": 4,
 "nbformat_minor": 5
}
